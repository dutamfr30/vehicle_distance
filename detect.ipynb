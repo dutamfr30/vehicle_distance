{
 "cells": [
  {
   "cell_type": "code",
   "execution_count": 1,
   "id": "ea7ac703",
   "metadata": {},
   "outputs": [],
   "source": [
    "import os\n",
    "from ultralytics import YOLO\n",
    "from ultralytics.yolo.utils.plotting import Annotator\n",
    "import cv2\n",
    "import time\n",
    "import numpy as np \n",
    "import pickle"
   ]
  },
  {
   "cell_type": "code",
   "execution_count": 2,
   "id": "b232d939",
   "metadata": {},
   "outputs": [
    {
     "name": "stdout",
     "output_type": "stream",
     "text": [
      "0.0756847721390359\n",
      "0.011283898391717395\n",
      "0.13390190919529732\n",
      "0.0671725329205366\n",
      "0.29756780540744043\n",
      "0.3289960110644714\n",
      "0.42416861702759845\n",
      "0.15125478249994395\n",
      "0.19478140306044733\n",
      "0.21075716760318763\n",
      "0.2647580208726994\n",
      "-0.8602894197760118\n",
      "-0.07067758085020048\n",
      "0.153953885811686\n",
      "0.2840723535633425\n",
      "0.4047333224248091\n"
     ]
    }
   ],
   "source": [
    "from moviepy.editor import VideoFileClip\n",
    "from settings import CALIBRATION_FILE_NAME_WEBCAM, PERSPECTIVE_FILE_NAME, ORIGINAL_SIZE, UNWARPED_SIZE\n",
    "from lane_finder import Lane_Finder"
   ]
  },
  {
   "cell_type": "code",
   "execution_count": 3,
   "id": "9e6ffb4b",
   "metadata": {},
   "outputs": [],
   "source": [
    "class DigitalFilter: \n",
    "    def __init__(self, vector, b, a):\n",
    "        self.len = len(vector)\n",
    "        self.b = b.reshape(-1, 1)\n",
    "        self.a = a.reshape(-1, 1)\n",
    "        self.input_history = np.tile(np.array(vector, dtype=np.float64), (len(self.b), 1))\n",
    "        self.output_history = np.tile(np.array(vector, dtype=np.float64), (len(self.a), 1))\n",
    "        self.old_output = np.copy(self.output_history[0])\n",
    "\n",
    "    def output(self):\n",
    "        return self.output_history[0]\n",
    "    \n",
    "    def speed(self):\n",
    "        return self.output_history[0] - self.output_history[1]\n",
    "    \n",
    "    def new_point(self, vector):\n",
    "        self.input_history = np.roll(self.input_history, 1, axis = 0)\n",
    "        self.old_output = np.copy(self.output_history[0])\n",
    "        self.output_history = np.roll(self.output_history, 1, axis=0)\n",
    "        self.input_history[0] = vector\n",
    "        self.output_history[0] = (np.matmul(self.b.T, self.input_history) - np.matmul(self.a[1:].T, self.output_history[1:]))/self.a[0]\n",
    "        return self.output()\n",
    "    \n",
    "    def skip_one(self):\n",
    "        self.new_point(self.output())\n"
   ]
  },
  {
   "cell_type": "code",
   "execution_count": 4,
   "id": "9199ac9a",
   "metadata": {},
   "outputs": [],
   "source": [
    "def area(bbox):\n",
    "    return float((bbox[3] - bbox[1]) * (bbox[2] - bbox[0]))"
   ]
  },
  {
   "cell_type": "code",
   "execution_count": 5,
   "id": "8b7d1eb4",
   "metadata": {},
   "outputs": [],
   "source": [
    "class Car:\n",
    "    def __init__(self, bounding_box, first=False, warped_size=None, transform_matrix=None, pixel_per_meter=None):\n",
    "        self.warped_size = warped_size\n",
    "        self.transform_matrix = transform_matrix\n",
    "        self.pixel_per_meter = pixel_per_meter\n",
    "        self.has_position = self.warped_size is not None \\\n",
    "                            and self.transform_matrix is not None \\\n",
    "                            and self.pixel_per_meter is not None\n",
    "        self.filtered_bbox = DigitalFilter(bounding_box, 1/21*np.ones(21, dtype=np.float32), np.array([1.0, 0]))\n",
    "        self.position = DigitalFilter(self.calculate_position(bounding_box), 1/21*np.ones(21, dtype=np.float32), np.array([1.0, 0]))\n",
    "        self.found = True\n",
    "        self.num_lost = 0\n",
    "        self.num_found = 0\n",
    "        self.display = first\n",
    "        self.fps = 25\n",
    "\n",
    "    def calculate_position(self, bbox):\n",
    "        if (self.has_position):\n",
    "            pos = np.array((bbox[0]/2+bbox[2]/2, bbox[3])).reshape(1, 1, -1)\n",
    "            # print('pos', pos)\n",
    "            # print('transform_matrix', self.transform_matrix)\n",
    "            dst = cv2.perspectiveTransform(pos, self.transform_matrix).reshape(-1, 1)\n",
    "            return np.array((self.warped_size[1]-dst[1])/self.pixel_per_meter)\n",
    "        else:\n",
    "            return np.array([0])\n",
    "        \n",
    "    def get_window(self):\n",
    "        return self.filtered_bbox.output()\n",
    "    \n",
    "    def one_found(self):\n",
    "        self.num_lost = 0\n",
    "        if not self.display:\n",
    "            self.num_found += 1\n",
    "            if self.num_found > 5:\n",
    "                self.display = True\n",
    "\n",
    "    def one_lost(self):\n",
    "        self.num_found = 0\n",
    "        self.num_lost += 1\n",
    "        if self.num_lost > 5:\n",
    "            self.found = False\n",
    "\n",
    "    def update_car(self, bboxes):\n",
    "        current_window = self.filtered_bbox.output()\n",
    "        intersection = np.zeros(4, dtype=np.float32)\n",
    "        for idx, bbox in enumerate(bboxes):\n",
    "            intersection[0:2] = np.maximum(current_window[0:2], bbox[0:2])\n",
    "            intersection[2:4] = np.minimum(current_window[2:4], bbox[2:4])\n",
    "            if (area(bbox) > 0) and area(current_window) and ((area(intersection)/area(current_window) > 0.8) or (area(intersection)/area(bbox) > 0.8)):\n",
    "                self.one_found()\n",
    "                self.filtered_bbox.new_point(bbox)\n",
    "                self.position.new_point(self.calculate_position(bbox))\n",
    "                bboxes.pop(idx)\n",
    "                return\n",
    "            \n",
    "        self.one_lost()\n",
    "        self.filtered_bbox.skip_one()\n",
    "        self.position.skip_one()\n",
    "\n",
    "    def draw(self, img, color=(0, 255, 0), thickness=2):\n",
    "        if self.display:\n",
    "            window = self.filtered_bbox.output().astype(np.uint32)\n",
    "            cv2.rectangle(img, (window[0], window[1]), (window[2], window[3]), color, thickness)\n",
    "            # print('window', window)\n",
    "            if self.has_position:\n",
    "                cv2.putText(img, \"RPos : {:6.2f}m\".format(self.position.output()[0]), (int(window[0]), int(window[1]-5)),\n",
    "                           cv2.FONT_HERSHEY_PLAIN, fontScale=1.25, thickness=3, color=(255, 255, 255))    \n",
    "                cv2.putText(img, \"RPos : {:6.2f}m\".format(self.position.output()[0]), (int(window[0]), int(window[1]-5)),\n",
    "                           cv2.FONT_HERSHEY_PLAIN, fontScale=1.25, thickness=2, color=(0, 0, 0))\n",
    "                # cv2.putText(img, \"RVel: {:6.2f}km/h\".format(self.position.speed()[0]*self.fps*3.6), (int(window[0]), int(window[3]+20)),\n",
    "                #            cv2.FONT_HERSHEY_PLAIN, fontScale=1.25, thickness=3, color=(255, 255, 255))    \n",
    "                # cv2.putText(img, \"RVel: {:6.2f}km/h\".format(self.position.speed()[0]*self.fps*3.6), (int(window[0]), int(window[3]+20)),\n",
    "                #            cv2.FONT_HERSHEY_PLAIN, fontScale=1.25, thickness=2, color=(0, 0, 0))   \n"
   ]
  },
  {
   "cell_type": "code",
   "execution_count": 6,
   "id": "b1e5fd4b",
   "metadata": {},
   "outputs": [],
   "source": [
    "class CarDetector:\n",
    "    def __init__(self,  warped_size=None, transform_matrix=None, pixel_per_meter=None, cam_matrix=None, dist_coeffs=None):\n",
    "        self.warped_size = warped_size\n",
    "        self.transform_matrix = transform_matrix\n",
    "        self.pixel_per_meter = pixel_per_meter\n",
    "        self.cam_matrix = cam_matrix\n",
    "        self.dist_coeffs = dist_coeffs\n",
    "        self.cars = []\n",
    "        self.first = True\n",
    "        \n",
    "\n",
    "    # def POINTS(event, x,y,flags,param):\n",
    "    #     if event == cv2.EVENT_MOUSEMOVE :\n",
    "    #         colorsBRG = [x, y]\n",
    "    #         print(colorsBRG)\n",
    "\n",
    "    # cv2.namedWindow('YOLO V8')\n",
    "    # cv2.setMouseCallback('YOLO V8', POINTS)\n",
    "\n",
    "    def detect(self, img, reset=False):\n",
    "        # car_windows = []\n",
    "        if reset:\n",
    "            self.cars = []\n",
    "            self.first = True\n",
    "        frame = cv2.undistort(img, self.cam_matrix, self.dist_coeffs)\n",
    "        results = model.predict(frame, classes=classes, conf=conf)  \n",
    "        bboxes = [] \n",
    "        for r in results:\n",
    "            # annotator = Annotator(frame)\n",
    "            boxes = r.boxes\n",
    "            for box in boxes:\n",
    "                b = box.xyxy[0]\n",
    "                # c = box.cls\n",
    "                bbox = np.array([(b[0]), (b[1]), (b[2]), (b[3])], dtype=np.int64)\n",
    "                # annotator.box_label(b, model.names[int(c)], color=(0, 255, 0), txt_color=(255, 9, 9))\n",
    "                # print('b', b)\n",
    "                # print('c', c)\n",
    "                # print('bbox', bbox)\n",
    "                bboxes.append(bbox)\n",
    "\n",
    "        # print('bboxes', bboxes)\n",
    "        # frame = annotator.result()\n",
    "        # cv2.imshow('YOLO V8', frame)\n",
    "\n",
    "        for car in self.cars:\n",
    "            car.update_car(bboxes)\n",
    "\n",
    "        for bbox in bboxes:\n",
    "            self.cars.append(Car(bbox, self.first, self.warped_size, self.transform_matrix, self.pixel_per_meter))\n",
    "            \n",
    "        tmp_cars = []\n",
    "        for car in self.cars:\n",
    "            if car.found:\n",
    "                tmp_cars.append(car)\n",
    "        self.cars = tmp_cars\n",
    "        self.first = False\n",
    "\n",
    "    def draw(self, img):\n",
    "        i2 = np.copy(img)\n",
    "        for car in self.cars:\n",
    "            car.draw(i2)\n",
    "        return i2\n",
    "\n"
   ]
  },
  {
   "cell_type": "code",
   "execution_count": 7,
   "id": "5dc9c48e",
   "metadata": {},
   "outputs": [
    {
     "name": "stderr",
     "output_type": "stream",
     "text": [
      "\n",
      "0: 384x640 (no detections), 376.1ms\n",
      "Speed: 4.0ms preprocess, 376.1ms inference, 63.0ms postprocess per image at shape (1, 3, 640, 640)\n",
      "\n",
      "0: 384x640 (no detections), 58.0ms\n",
      "Speed: 0.0ms preprocess, 58.0ms inference, 1.0ms postprocess per image at shape (1, 3, 640, 640)\n"
     ]
    },
    {
     "name": "stdout",
     "output_type": "stream",
     "text": [
      "0.08046290982072368\n",
      "0.9487516858965537\n",
      "0.032580740576061085 568 0.034351685896553685 343.5397910283355\n",
      "FPS:  0.07593045173352914\n",
      "-0.027283259096148038\n",
      "0.9487516858965537\n",
      "0.032580740576061085 568 0.034351685896553685 343.5397910283355\n"
     ]
    },
    {
     "name": "stderr",
     "output_type": "stream",
     "text": [
      "\n",
      "0: 384x640 (no detections), 72.0ms\n",
      "Speed: 0.0ms preprocess, 72.0ms inference, 1.0ms postprocess per image at shape (1, 3, 640, 640)\n",
      "\n",
      "0: 384x640 (no detections), 57.0ms\n",
      "Speed: 0.0ms preprocess, 57.0ms inference, 1.0ms postprocess per image at shape (1, 3, 640, 640)\n"
     ]
    },
    {
     "name": "stdout",
     "output_type": "stream",
     "text": [
      "-0.058040378025012496\n",
      "0.948336565283338\n",
      "0.0282117339328537 610 0.033936565283337994 315.99786895064784\n",
      "FPS:  6.287925329927246\n",
      "-0.05832024793568613\n",
      "0.948336565283338\n",
      "0.0282117339328537 610 0.033936565283337994 315.99786895064784\n"
     ]
    },
    {
     "name": "stderr",
     "output_type": "stream",
     "text": [
      "\n",
      "0: 384x640 (no detections), 64.0ms\n",
      "Speed: 0.0ms preprocess, 64.0ms inference, 1.0ms postprocess per image at shape (1, 3, 640, 640)\n",
      "\n",
      "0: 384x640 (no detections), 64.0ms\n",
      "Speed: 1.0ms preprocess, 64.0ms inference, 0.0ms postprocess per image at shape (1, 3, 640, 640)\n"
     ]
    },
    {
     "name": "stdout",
     "output_type": "stream",
     "text": [
      "-0.052932682803947584\n",
      "0.9473814180410829\n",
      "0.03046448034829663 571 0.0329814180410829 321.8232849773723\n",
      "FPS:  6.942855534845841\n",
      "-0.053695365327122824\n",
      "0.9473814180410829\n",
      "0.03046448034829663 571 0.0329814180410829 321.8232849773723\n"
     ]
    },
    {
     "name": "stderr",
     "output_type": "stream",
     "text": [
      "\n",
      "0: 384x640 (no detections), 64.0ms\n",
      "Speed: 1.0ms preprocess, 64.0ms inference, 0.0ms postprocess per image at shape (1, 3, 640, 640)\n",
      "\n",
      "0: 384x640 (no detections), 63.0ms\n",
      "Speed: 0.0ms preprocess, 63.0ms inference, 1.0ms postprocess per image at shape (1, 3, 640, 640)\n"
     ]
    },
    {
     "name": "stdout",
     "output_type": "stream",
     "text": [
      "-0.05280975460046844\n",
      "0.9387465903387471\n",
      "0.04195524498387948 571 0.024346590338747087 329.7260948795813\n",
      "FPS:  6.801184364571544\n",
      "-0.05571295798522269\n",
      "0.9387465903387471\n",
      "0.04195524498387948 571 0.024346590338747087 329.7260948795813\n"
     ]
    },
    {
     "name": "stderr",
     "output_type": "stream",
     "text": [
      "\n",
      "0: 384x640 (no detections), 65.0ms\n",
      "Speed: 1.0ms preprocess, 65.0ms inference, 1.0ms postprocess per image at shape (1, 3, 640, 640)\n",
      "\n",
      "0: 384x640 (no detections), 59.0ms\n",
      "Speed: 0.0ms preprocess, 59.0ms inference, 1.0ms postprocess per image at shape (1, 3, 640, 640)\n"
     ]
    },
    {
     "name": "stdout",
     "output_type": "stream",
     "text": [
      "-0.10585529875358879\n",
      "0.9017961421848837\n",
      "FPS:  6.3679639023042345\n",
      "-0.10667791464653997\n",
      "0.6787203256679464\n"
     ]
    },
    {
     "name": "stderr",
     "output_type": "stream",
     "text": [
      "\n",
      "0: 384x640 (no detections), 59.0ms\n",
      "Speed: 0.0ms preprocess, 59.0ms inference, 1.0ms postprocess per image at shape (1, 3, 640, 640)\n",
      "\n",
      "0: 384x640 (no detections), 57.0ms\n",
      "Speed: 0.0ms preprocess, 57.0ms inference, 1.0ms postprocess per image at shape (1, 3, 640, 640)\n"
     ]
    },
    {
     "name": "stdout",
     "output_type": "stream",
     "text": [
      "-0.08537672889252224\n",
      "0.6924538885181042\n",
      "FPS:  6.709941640217058\n",
      "-0.08629361970550042\n",
      "0.6924538885181042\n"
     ]
    },
    {
     "name": "stderr",
     "output_type": "stream",
     "text": [
      "\n",
      "0: 384x640 (no detections), 64.0ms\n",
      "Speed: 0.0ms preprocess, 64.0ms inference, 1.0ms postprocess per image at shape (1, 3, 640, 640)\n",
      "\n",
      "0: 384x640 (no detections), 57.0ms\n",
      "Speed: 1.0ms preprocess, 57.0ms inference, 1.0ms postprocess per image at shape (1, 3, 640, 640)\n"
     ]
    },
    {
     "name": "stdout",
     "output_type": "stream",
     "text": [
      "-0.14763609592001736\n",
      "0.6930471908337668\n",
      "FPS:  6.991485474633115\n",
      "-0.1395952675373031\n",
      "0.6930471908337668\n"
     ]
    },
    {
     "name": "stderr",
     "output_type": "stream",
     "text": [
      "\n",
      "0: 384x640 (no detections), 61.0ms\n",
      "Speed: 1.0ms preprocess, 61.0ms inference, 1.0ms postprocess per image at shape (1, 3, 640, 640)\n",
      "\n",
      "0: 384x640 (no detections), 71.0ms\n",
      "Speed: 0.0ms preprocess, 71.0ms inference, 1.0ms postprocess per image at shape (1, 3, 640, 640)\n"
     ]
    },
    {
     "name": "stdout",
     "output_type": "stream",
     "text": [
      "-0.13819003193183232\n",
      "0.7048387099320268\n",
      "FPS:  7.244736546649509\n",
      "-0.13510046707754797\n",
      "0.7048387099320268\n"
     ]
    },
    {
     "name": "stderr",
     "output_type": "stream",
     "text": [
      "\n",
      "0: 384x640 (no detections), 58.0ms\n",
      "Speed: 1.0ms preprocess, 58.0ms inference, 1.0ms postprocess per image at shape (1, 3, 640, 640)\n",
      "\n",
      "0: 384x640 (no detections), 59.0ms\n",
      "Speed: 0.0ms preprocess, 59.0ms inference, 1.0ms postprocess per image at shape (1, 3, 640, 640)\n",
      "\n"
     ]
    },
    {
     "name": "stdout",
     "output_type": "stream",
     "text": [
      "-0.10685134774210492\n",
      "0.7188326723534699\n",
      "FPS:  7.297728890056565\n",
      "-0.10187659440368324\n",
      "0.7188326723534699\n"
     ]
    },
    {
     "name": "stderr",
     "output_type": "stream",
     "text": [
      "0: 384x640 (no detections), 58.0ms\n",
      "Speed: 1.0ms preprocess, 58.0ms inference, 1.0ms postprocess per image at shape (1, 3, 640, 640)\n",
      "\n",
      "0: 384x640 (no detections), 56.0ms\n",
      "Speed: 0.0ms preprocess, 56.0ms inference, 1.0ms postprocess per image at shape (1, 3, 640, 640)\n",
      "\n"
     ]
    },
    {
     "name": "stdout",
     "output_type": "stream",
     "text": [
      "-0.10842830981566043\n",
      "0.7284365812274178\n",
      "FPS:  6.709877234463937\n",
      "-0.10837710826911207\n",
      "0.7284365812274178\n"
     ]
    },
    {
     "name": "stderr",
     "output_type": "stream",
     "text": [
      "0: 384x640 (no detections), 61.0ms\n",
      "Speed: 0.0ms preprocess, 61.0ms inference, 1.0ms postprocess per image at shape (1, 3, 640, 640)\n",
      "\n",
      "0: 384x640 (no detections), 55.0ms\n",
      "Speed: 0.0ms preprocess, 55.0ms inference, 1.0ms postprocess per image at shape (1, 3, 640, 640)\n"
     ]
    },
    {
     "name": "stdout",
     "output_type": "stream",
     "text": [
      "-0.1664219365173183\n",
      "0.738751263986668\n",
      "FPS:  6.991438858514469\n",
      "-0.1664219365173183\n",
      "0.738751263986668\n"
     ]
    },
    {
     "name": "stderr",
     "output_type": "stream",
     "text": [
      "\n",
      "0: 384x640 (no detections), 58.0ms\n",
      "Speed: 1.0ms preprocess, 58.0ms inference, 1.0ms postprocess per image at shape (1, 3, 640, 640)\n",
      "\n",
      "0: 384x640 (no detections), 61.0ms\n",
      "Speed: 0.0ms preprocess, 61.0ms inference, 1.0ms postprocess per image at shape (1, 3, 640, 640)\n"
     ]
    },
    {
     "name": "stdout",
     "output_type": "stream",
     "text": [
      "-0.1033176529380595\n",
      "0.7598329529533594\n",
      "FPS:  7.040647813511894\n",
      "-0.1033176529380595\n",
      "0.7598329529533594\n"
     ]
    },
    {
     "name": "stderr",
     "output_type": "stream",
     "text": [
      "\n",
      "0: 384x640 (no detections), 59.0ms\n",
      "Speed: 1.0ms preprocess, 59.0ms inference, 1.0ms postprocess per image at shape (1, 3, 640, 640)\n",
      "\n",
      "0: 384x640 (no detections), 62.0ms\n",
      "Speed: 1.0ms preprocess, 62.0ms inference, 1.0ms postprocess per image at shape (1, 3, 640, 640)\n"
     ]
    },
    {
     "name": "stdout",
     "output_type": "stream",
     "text": [
      "-0.0937709492297849\n",
      "0.7574226398133403\n",
      "FPS:  7.090566375840401\n",
      "-0.0937709492297849\n",
      "0.7574226398133403\n"
     ]
    },
    {
     "name": "stderr",
     "output_type": "stream",
     "text": [
      "\n",
      "0: 384x640 (no detections), 60.0ms\n",
      "Speed: 1.0ms preprocess, 60.0ms inference, 1.0ms postprocess per image at shape (1, 3, 640, 640)\n",
      "\n",
      "0: 384x640 (no detections), 62.0ms\n",
      "Speed: 1.0ms preprocess, 62.0ms inference, 1.0ms postprocess per image at shape (1, 3, 640, 640)\n"
     ]
    },
    {
     "name": "stdout",
     "output_type": "stream",
     "text": [
      "-0.11736014007911355\n",
      "0.7801026352399643\n",
      "FPS:  7.040588721102778\n",
      "-0.1089487011270569\n",
      "0.7801026352399643\n"
     ]
    },
    {
     "name": "stderr",
     "output_type": "stream",
     "text": [
      "\n",
      "0: 384x640 (no detections), 63.0ms\n",
      "Speed: 0.0ms preprocess, 63.0ms inference, 1.0ms postprocess per image at shape (1, 3, 640, 640)\n",
      "\n",
      "0: 384x640 (no detections), 60.0ms\n",
      "Speed: 0.0ms preprocess, 60.0ms inference, 1.0ms postprocess per image at shape (1, 3, 640, 640)\n",
      "\n"
     ]
    },
    {
     "name": "stdout",
     "output_type": "stream",
     "text": [
      "-0.1512859180961692\n",
      "0.7992646215008057\n",
      "FPS:  6.895010767536289\n",
      "-0.15380766109568555\n",
      "0.7992646215008057\n"
     ]
    },
    {
     "name": "stderr",
     "output_type": "stream",
     "text": [
      "0: 384x640 (no detections), 66.0ms\n",
      "Speed: 0.0ms preprocess, 66.0ms inference, 1.0ms postprocess per image at shape (1, 3, 640, 640)\n",
      "\n",
      "0: 384x640 (no detections), 60.0ms\n",
      "Speed: 0.0ms preprocess, 60.0ms inference, 0.0ms postprocess per image at shape (1, 3, 640, 640)\n"
     ]
    },
    {
     "name": "stdout",
     "output_type": "stream",
     "text": [
      "-0.12126588336187072\n",
      "0.8029569786919437\n",
      "FPS:  6.847720285839764\n",
      "-0.1258522647261875\n",
      "0.8029569786919437\n"
     ]
    },
    {
     "name": "stderr",
     "output_type": "stream",
     "text": [
      "\n",
      "0: 384x640 (no detections), 58.0ms\n",
      "Speed: 1.0ms preprocess, 58.0ms inference, 1.0ms postprocess per image at shape (1, 3, 640, 640)\n",
      "\n",
      "0: 384x640 (no detections), 61.0ms\n",
      "Speed: 1.0ms preprocess, 61.0ms inference, 1.0ms postprocess per image at shape (1, 3, 640, 640)\n"
     ]
    },
    {
     "name": "stdout",
     "output_type": "stream",
     "text": [
      "-0.16187140776138498\n",
      "0.816004112365823\n",
      "FPS:  6.62102061144498\n",
      "-0.16911065945984505\n",
      "0.816004112365823\n"
     ]
    },
    {
     "name": "stderr",
     "output_type": "stream",
     "text": [
      "\n",
      "0: 384x640 (no detections), 57.0ms\n",
      "Speed: 0.0ms preprocess, 57.0ms inference, 0.0ms postprocess per image at shape (1, 3, 640, 640)\n",
      "\n",
      "0: 384x640 (no detections), 58.0ms\n",
      "Speed: 0.0ms preprocess, 58.0ms inference, 0.0ms postprocess per image at shape (1, 3, 640, 640)\n"
     ]
    },
    {
     "name": "stdout",
     "output_type": "stream",
     "text": [
      "-0.1337467845000122\n",
      "0.8408946906594716\n",
      "FPS:  6.991438858514469\n",
      "-0.1312856446451376\n",
      "0.8408946906594716\n"
     ]
    },
    {
     "name": "stderr",
     "output_type": "stream",
     "text": [
      "\n",
      "0: 384x640 (no detections), 54.0ms\n",
      "Speed: 1.0ms preprocess, 54.0ms inference, 1.0ms postprocess per image at shape (1, 3, 640, 640)\n",
      "\n",
      "0: 384x640 (no detections), 61.0ms\n",
      "Speed: 1.0ms preprocess, 61.0ms inference, 1.0ms postprocess per image at shape (1, 3, 640, 640)\n"
     ]
    },
    {
     "name": "stdout",
     "output_type": "stream",
     "text": [
      "-0.19394490222277594\n",
      "0.8536150488067504\n",
      "FPS:  7.192643936769684\n",
      "-0.17961256992853003\n",
      "0.8536150488067504\n"
     ]
    },
    {
     "name": "stderr",
     "output_type": "stream",
     "text": [
      "\n",
      "0: 384x640 (no detections), 58.0ms\n",
      "Speed: 1.0ms preprocess, 58.0ms inference, 1.0ms postprocess per image at shape (1, 3, 640, 640)\n",
      "\n",
      "0: 384x640 (no detections), 60.0ms\n",
      "Speed: 1.0ms preprocess, 60.0ms inference, 1.0ms postprocess per image at shape (1, 3, 640, 640)\n",
      "\n"
     ]
    },
    {
     "name": "stdout",
     "output_type": "stream",
     "text": [
      "-0.2530909092252742\n",
      "0.8771631294127593\n",
      "FPS:  6.84775382525616\n",
      "-0.24734643457269923\n",
      "0.8771631294127593\n"
     ]
    },
    {
     "name": "stderr",
     "output_type": "stream",
     "text": [
      "0: 384x640 (no detections), 62.0ms\n",
      "Speed: 1.0ms preprocess, 62.0ms inference, 1.0ms postprocess per image at shape (1, 3, 640, 640)\n",
      "\n",
      "0: 384x640 (no detections), 58.0ms\n",
      "Speed: 0.0ms preprocess, 58.0ms inference, 1.0ms postprocess per image at shape (1, 3, 640, 640)\n",
      "\n"
     ]
    },
    {
     "name": "stdout",
     "output_type": "stream",
     "text": [
      "-0.22201805658142226\n",
      "0.8751849536488783\n",
      "FPS:  6.894954094506958\n",
      "-0.22341132800987062\n",
      "0.8751849536488783\n"
     ]
    },
    {
     "name": "stderr",
     "output_type": "stream",
     "text": [
      "0: 384x640 (no detections), 63.0ms\n",
      "Speed: 0.0ms preprocess, 63.0ms inference, 1.0ms postprocess per image at shape (1, 3, 640, 640)\n",
      "\n",
      "0: 384x640 (no detections), 58.0ms\n",
      "Speed: 1.0ms preprocess, 58.0ms inference, 1.0ms postprocess per image at shape (1, 3, 640, 640)\n",
      "\n"
     ]
    },
    {
     "name": "stdout",
     "output_type": "stream",
     "text": [
      "-0.1994304766409687\n",
      "0.8954320545743732\n",
      "FPS:  7.0406241764292155\n",
      "-0.20343774653914726\n",
      "0.8954320545743732\n"
     ]
    },
    {
     "name": "stderr",
     "output_type": "stream",
     "text": [
      "0: 384x640 (no detections), 58.0ms\n",
      "Speed: 0.0ms preprocess, 58.0ms inference, 1.0ms postprocess per image at shape (1, 3, 640, 640)\n",
      "\n",
      "0: 384x640 (no detections), 67.0ms\n",
      "Speed: 1.0ms preprocess, 67.0ms inference, 1.0ms postprocess per image at shape (1, 3, 640, 640)\n"
     ]
    },
    {
     "name": "stdout",
     "output_type": "stream",
     "text": [
      "-0.21162468651296895\n",
      "0.9005281974155521\n",
      "FPS:  7.3513475617344\n",
      "-0.21162468651296895\n",
      "0.9005281974155521\n"
     ]
    },
    {
     "name": "stderr",
     "output_type": "stream",
     "text": [
      "\n",
      "0: 384x640 (no detections), 60.0ms\n",
      "Speed: 0.0ms preprocess, 60.0ms inference, 1.0ms postprocess per image at shape (1, 3, 640, 640)\n",
      "\n",
      "0: 384x640 (no detections), 62.0ms\n",
      "Speed: 0.0ms preprocess, 62.0ms inference, 1.0ms postprocess per image at shape (1, 3, 640, 640)\n"
     ]
    },
    {
     "name": "stdout",
     "output_type": "stream",
     "text": [
      "-0.23873066410113375\n",
      "0.9166974846130798\n",
      "0.021712329473593583 904 0.00229748461307977 110.89420537522706\n",
      "FPS:  6.895010767536289\n",
      "-0.23742043957077885\n",
      "0.9166974846130798\n",
      "0.021712329473593583 904 0.00229748461307977 110.89420537522706\n"
     ]
    },
    {
     "name": "stderr",
     "output_type": "stream",
     "text": [
      "\n",
      "0: 384x640 (no detections), 60.0ms\n",
      "Speed: 1.0ms preprocess, 60.0ms inference, 1.0ms postprocess per image at shape (1, 3, 640, 640)\n",
      "\n",
      "0: 384x640 (no detections), 61.0ms\n",
      "Speed: 0.0ms preprocess, 61.0ms inference, 1.0ms postprocess per image at shape (1, 3, 640, 640)\n"
     ]
    },
    {
     "name": "stdout",
     "output_type": "stream",
     "text": [
      "-0.2821941812051161\n",
      "0.9196426903321913\n",
      "0.015788174404406052 903 0.005242690332191269 109.2010888401863\n",
      "FPS:  7.040647813511894\n",
      "-0.28508789816602964\n",
      "0.9196426903321913\n",
      "0.015788174404406052 903 0.005242690332191269 109.2010888401863\n"
     ]
    },
    {
     "name": "stderr",
     "output_type": "stream",
     "text": [
      "\n",
      "0: 384x640 (no detections), 57.0ms\n",
      "Speed: 1.0ms preprocess, 57.0ms inference, 1.0ms postprocess per image at shape (1, 3, 640, 640)\n",
      "\n",
      "0: 384x640 (no detections), 59.0ms\n",
      "Speed: 1.0ms preprocess, 59.0ms inference, 1.0ms postprocess per image at shape (1, 3, 640, 640)\n"
     ]
    },
    {
     "name": "stdout",
     "output_type": "stream",
     "text": [
      "-0.25860772972911383\n",
      "0.8842125459295167\n",
      "FPS:  7.040695088153386\n",
      "-0.258450541856434\n",
      "0.8653353066772811\n"
     ]
    },
    {
     "name": "stderr",
     "output_type": "stream",
     "text": [
      "\n",
      "0: 384x640 (no detections), 66.0ms\n",
      "Speed: 1.0ms preprocess, 66.0ms inference, 1.0ms postprocess per image at shape (1, 3, 640, 640)\n",
      "\n",
      "0: 384x640 (no detections), 58.0ms\n",
      "Speed: 1.0ms preprocess, 58.0ms inference, 1.0ms postprocess per image at shape (1, 3, 640, 640)\n",
      "\n"
     ]
    },
    {
     "name": "stdout",
     "output_type": "stream",
     "text": [
      "-0.26345546141840814\n",
      "0.8767176357300299\n",
      "FPS:  6.5774844905563326\n",
      "-0.26336156954686474\n",
      "0.8695057784139186\n"
     ]
    },
    {
     "name": "stderr",
     "output_type": "stream",
     "text": [
      "0: 384x640 (no detections), 59.0ms\n",
      "Speed: 1.0ms preprocess, 59.0ms inference, 1.0ms postprocess per image at shape (1, 3, 640, 640)\n",
      "\n",
      "0: 384x640 (no detections), 57.0ms\n",
      "Speed: 0.0ms preprocess, 57.0ms inference, 1.0ms postprocess per image at shape (1, 3, 640, 640)\n",
      "\n"
     ]
    },
    {
     "name": "stdout",
     "output_type": "stream",
     "text": [
      "-0.304063602781101\n",
      "0.8740069990446566\n",
      "FPS:  7.090650284180239\n",
      "-0.29390859854156504\n",
      "0.9238241798458822\n",
      "0.021709844843976978 860 0.009424179845882175 107.81574443643377\n"
     ]
    },
    {
     "name": "stderr",
     "output_type": "stream",
     "text": [
      "0: 384x640 (no detections), 59.0ms\n",
      "Speed: 0.0ms preprocess, 59.0ms inference, 1.0ms postprocess per image at shape (1, 3, 640, 640)\n",
      "\n",
      "0: 384x640 (no detections), 57.0ms\n",
      "Speed: 1.0ms preprocess, 57.0ms inference, 0.0ms postprocess per image at shape (1, 3, 640, 640)\n",
      "\n"
     ]
    },
    {
     "name": "stdout",
     "output_type": "stream",
     "text": [
      "-0.33443708711505393\n",
      "0.9149010246065876\n",
      "0.023193046716504795 810 0.00050102460658763 104.71998668650498\n",
      "FPS:  6.9429474764529635\n",
      "-0.33389711590398696\n",
      "0.9149010246065876\n",
      "0.023193046716504795 810 0.00050102460658763 104.71998668650498\n"
     ]
    },
    {
     "name": "stderr",
     "output_type": "stream",
     "text": [
      "0: 384x640 (no detections), 58.0ms\n",
      "Speed: 0.0ms preprocess, 58.0ms inference, 1.0ms postprocess per image at shape (1, 3, 640, 640)\n",
      "\n",
      "0: 384x640 (no detections), 67.0ms\n",
      "Speed: 1.0ms preprocess, 67.0ms inference, 1.0ms postprocess per image at shape (1, 3, 640, 640)\n"
     ]
    },
    {
     "name": "stdout",
     "output_type": "stream",
     "text": [
      "-0.323851883050428\n",
      "0.9070506191885708\n",
      "FPS:  7.090614323219994\n",
      "-0.3276969928117375\n",
      "0.9070506191885708\n"
     ]
    },
    {
     "name": "stderr",
     "output_type": "stream",
     "text": [
      "\n",
      "0: 384x640 (no detections), 59.0ms\n",
      "Speed: 0.0ms preprocess, 59.0ms inference, 0.0ms postprocess per image at shape (1, 3, 640, 640)\n",
      "\n",
      "0: 384x640 (no detections), 57.0ms\n",
      "Speed: 1.0ms preprocess, 57.0ms inference, 1.0ms postprocess per image at shape (1, 3, 640, 640)\n"
     ]
    },
    {
     "name": "stdout",
     "output_type": "stream",
     "text": [
      "-0.32544377080369125\n",
      "0.9114632763258561\n",
      "FPS:  7.192680940091059\n",
      "-0.33015688782268326\n",
      "0.9114632763258561\n"
     ]
    },
    {
     "name": "stderr",
     "output_type": "stream",
     "text": [
      "\n",
      "0: 384x640 (no detections), 59.0ms\n",
      "Speed: 1.0ms preprocess, 59.0ms inference, 1.0ms postprocess per image at shape (1, 3, 640, 640)\n",
      "\n",
      "0: 384x640 (no detections), 62.0ms\n",
      "Speed: 1.0ms preprocess, 62.0ms inference, 1.0ms postprocess per image at shape (1, 3, 640, 640)\n"
     ]
    },
    {
     "name": "stdout",
     "output_type": "stream",
     "text": [
      "-0.3832697491921826\n",
      "0.9138958908760666\n",
      "FPS:  7.090626310166214\n",
      "-0.37682083905368935\n",
      "0.9138958908760666\n"
     ]
    },
    {
     "name": "stderr",
     "output_type": "stream",
     "text": [
      "\n",
      "0: 384x640 (no detections), 62.0ms\n",
      "Speed: 0.0ms preprocess, 62.0ms inference, 0.0ms postprocess per image at shape (1, 3, 640, 640)\n",
      "\n",
      "0: 384x640 (no detections), 65.0ms\n",
      "Speed: 1.0ms preprocess, 65.0ms inference, 1.0ms postprocess per image at shape (1, 3, 640, 640)\n"
     ]
    },
    {
     "name": "stdout",
     "output_type": "stream",
     "text": [
      "-0.35482197862606735\n",
      "0.9135983690959633\n",
      "FPS:  6.991392243017449\n",
      "-0.34667829356345936\n",
      "0.9181339618538706\n",
      "0.020091425523690143 751 0.0037339618538706487 112.18411748704351\n"
     ]
    },
    {
     "name": "stderr",
     "output_type": "stream",
     "text": [
      "\n",
      "0: 384x640 (no detections), 62.0ms\n",
      "Speed: 0.0ms preprocess, 62.0ms inference, 1.0ms postprocess per image at shape (1, 3, 640, 640)\n",
      "\n",
      "0: 384x640 (no detections), 63.0ms\n",
      "Speed: 1.0ms preprocess, 63.0ms inference, 1.0ms postprocess per image at shape (1, 3, 640, 640)\n"
     ]
    },
    {
     "name": "stdout",
     "output_type": "stream",
     "text": [
      "-0.4042529226324063\n",
      "0.9153516215241242\n",
      "0.015309417686728888 777 0.0009516215241242021 113.66526204767516\n",
      "FPS:  6.755298434024652\n",
      "-0.4023302327173004\n",
      "0.9101153803152224\n"
     ]
    },
    {
     "name": "stderr",
     "output_type": "stream",
     "text": [
      "\n",
      "0: 384x640 (no detections), 63.0ms\n",
      "Speed: 0.0ms preprocess, 63.0ms inference, 1.0ms postprocess per image at shape (1, 3, 640, 640)\n",
      "\n",
      "0: 384x640 (no detections), 55.0ms\n",
      "Speed: 0.0ms preprocess, 55.0ms inference, 1.0ms postprocess per image at shape (1, 3, 640, 640)\n"
     ]
    },
    {
     "name": "stdout",
     "output_type": "stream",
     "text": [
      "-0.3201565539368676\n",
      "0.9104830748795385\n",
      "FPS:  6.894999432855891\n",
      "-0.32018287754673014\n",
      "0.9104830748795385\n"
     ]
    },
    {
     "name": "stderr",
     "output_type": "stream",
     "text": [
      "\n",
      "0: 384x640 (no detections), 72.0ms\n",
      "Speed: 1.0ms preprocess, 72.0ms inference, 0.0ms postprocess per image at shape (1, 3, 640, 640)\n",
      "\n",
      "0: 384x640 (no detections), 66.0ms\n",
      "Speed: 1.0ms preprocess, 66.0ms inference, 1.0ms postprocess per image at shape (1, 3, 640, 640)\n"
     ]
    },
    {
     "name": "stdout",
     "output_type": "stream",
     "text": [
      "-0.3487059773740959\n",
      "0.9141319445874709\n",
      "FPS:  6.096186017577952\n",
      "-0.3360593407376913\n",
      "0.9141319445874709\n"
     ]
    },
    {
     "name": "stderr",
     "output_type": "stream",
     "text": [
      "\n",
      "0: 384x640 (no detections), 64.0ms\n",
      "Speed: 0.0ms preprocess, 64.0ms inference, 1.0ms postprocess per image at shape (1, 3, 640, 640)\n",
      "\n",
      "0: 384x640 (no detections), 59.0ms\n",
      "Speed: 0.0ms preprocess, 59.0ms inference, 1.0ms postprocess per image at shape (1, 3, 640, 640)\n",
      "\n"
     ]
    },
    {
     "name": "stdout",
     "output_type": "stream",
     "text": [
      "-0.36508057630668334\n",
      "0.9348672024390317\n",
      "0.014997872713039762 763 0.020467202439031662 125.76425247087296\n",
      "FPS:  6.942924490822894\n",
      "-0.3628672555462529\n",
      "0.9348672024390317\n",
      "0.014997872713039762 763 0.020467202439031662 125.76425247087296\n"
     ]
    },
    {
     "name": "stderr",
     "output_type": "stream",
     "text": [
      "0: 384x640 (no detections), 63.0ms\n",
      "Speed: 1.0ms preprocess, 63.0ms inference, 1.0ms postprocess per image at shape (1, 3, 640, 640)\n",
      "\n",
      "0: 384x640 (no detections), 57.0ms\n",
      "Speed: 1.0ms preprocess, 57.0ms inference, 1.0ms postprocess per image at shape (1, 3, 640, 640)\n"
     ]
    },
    {
     "name": "stdout",
     "output_type": "stream",
     "text": [
      "-0.3164971684698321\n",
      "1.0151551415460978\n",
      "0.012285269190784653 753 0.10075514154609777 157.6787405538403\n",
      "FPS:  6.755244034427665\n",
      "-0.3101519230529324\n",
      "1.0151551415460978\n",
      "0.012285269190784653 753 0.10075514154609777 157.6787405538403\n"
     ]
    },
    {
     "name": "stderr",
     "output_type": "stream",
     "text": [
      "\n",
      "0: 384x640 (no detections), 64.0ms\n",
      "Speed: 1.0ms preprocess, 64.0ms inference, 0.0ms postprocess per image at shape (1, 3, 640, 640)\n",
      "\n",
      "0: 384x640 (no detections), 59.0ms\n",
      "Speed: 1.0ms preprocess, 59.0ms inference, 1.0ms postprocess per image at shape (1, 3, 640, 640)\n"
     ]
    },
    {
     "name": "stdout",
     "output_type": "stream",
     "text": [
      "-0.33789250578347985\n",
      "0.966699192434975\n",
      "0.03072471420872902 572 0.05229919243497505 133.7363355660139\n",
      "FPS:  6.755244034427665\n",
      "-0.33852921003579195\n",
      "0.9303057117177362\n",
      "0.08552453772728996 523 0.01590571171773625 115.64012578439765\n"
     ]
    },
    {
     "name": "stderr",
     "output_type": "stream",
     "text": [
      "\n",
      "0: 384x640 (no detections), 70.0ms\n",
      "Speed: 0.0ms preprocess, 70.0ms inference, 1.0ms postprocess per image at shape (1, 3, 640, 640)\n",
      "\n",
      "0: 384x640 (no detections), 58.0ms\n",
      "Speed: 1.0ms preprocess, 58.0ms inference, 1.0ms postprocess per image at shape (1, 3, 640, 640)\n",
      "\n"
     ]
    },
    {
     "name": "stdout",
     "output_type": "stream",
     "text": [
      "-0.33635773830784843\n",
      "0.9329397201734688\n",
      "0.08952407017736497 519 0.018539720173468832 121.44439178025034\n",
      "FPS:  6.62102061144498\n",
      "-0.3481294119828895\n",
      "0.8464621434272213\n"
     ]
    },
    {
     "name": "stderr",
     "output_type": "stream",
     "text": [
      "0: 384x640 (no detections), 58.0ms\n",
      "Speed: 0.0ms preprocess, 58.0ms inference, 1.0ms postprocess per image at shape (1, 3, 640, 640)\n",
      "\n",
      "0: 384x640 (no detections), 59.0ms\n",
      "Speed: 1.0ms preprocess, 59.0ms inference, 1.0ms postprocess per image at shape (1, 3, 640, 640)\n"
     ]
    },
    {
     "name": "stdout",
     "output_type": "stream",
     "text": [
      "-0.37544932599205283\n",
      "0.9638205931840658\n",
      "0.025605666305323238 597 0.049420593184065775 146.79443414232367\n",
      "FPS:  7.461063506943765\n",
      "-0.38089741609147487\n",
      "0.9803599268340302\n",
      "0.0166762358418876 695 0.06595992683403018 159.50658693325013\n"
     ]
    },
    {
     "name": "stderr",
     "output_type": "stream",
     "text": [
      "\n",
      "0: 384x640 (no detections), 71.0ms\n",
      "Speed: 0.0ms preprocess, 71.0ms inference, 1.0ms postprocess per image at shape (1, 3, 640, 640)\n",
      "\n",
      "0: 384x640 (no detections), 59.0ms\n",
      "Speed: 1.0ms preprocess, 59.0ms inference, 1.0ms postprocess per image at shape (1, 3, 640, 640)\n"
     ]
    },
    {
     "name": "stdout",
     "output_type": "stream",
     "text": [
      "-0.3517055160846694\n",
      "0.97532543353546\n",
      "0.019309169216016553 706 0.06092543353545998 161.45986675716645\n",
      "FPS:  6.709930905839008\n",
      "-0.37494960516721165\n",
      "0.97532543353546\n",
      "0.019309169216016553 706 0.06092543353545998 161.45986675716645\n"
     ]
    },
    {
     "name": "stderr",
     "output_type": "stream",
     "text": [
      "\n",
      "0: 384x640 (no detections), 60.0ms\n",
      "Speed: 4.0ms preprocess, 60.0ms inference, 1.0ms postprocess per image at shape (1, 3, 640, 640)\n",
      "\n",
      "0: 384x640 (no detections), 58.0ms\n",
      "Speed: 1.0ms preprocess, 58.0ms inference, 0.0ms postprocess per image at shape (1, 3, 640, 640)\n"
     ]
    },
    {
     "name": "stdout",
     "output_type": "stream",
     "text": [
      "-0.39362235715550464\n",
      "0.9694968041698504\n",
      "0.024859429359103014 669 0.05509680416985041 163.29345569593494\n",
      "FPS:  6.7552766740807195\n",
      "-0.41855211142457205\n",
      "0.9694968041698504\n",
      "0.024859429359103014 669 0.05509680416985041 163.29345569593494\n"
     ]
    },
    {
     "name": "stderr",
     "output_type": "stream",
     "text": [
      "\n",
      "0: 384x640 (no detections), 71.0ms\n",
      "Speed: 1.0ms preprocess, 71.0ms inference, 1.0ms postprocess per image at shape (1, 3, 640, 640)\n",
      "\n",
      "0: 384x640 (no detections), 56.0ms\n",
      "Speed: 1.0ms preprocess, 56.0ms inference, 1.0ms postprocess per image at shape (1, 3, 640, 640)\n"
     ]
    },
    {
     "name": "stdout",
     "output_type": "stream",
     "text": [
      "-0.4754640788304243\n",
      "0.9031116564456314\n",
      "FPS:  6.620999707964671\n",
      "-0.5020317431070886\n",
      "0.9307953041420467\n",
      "0.04756926605310696 558 0.016395304142046707 134.28678298949532\n"
     ]
    },
    {
     "name": "stderr",
     "output_type": "stream",
     "text": [
      "\n",
      "0: 384x640 (no detections), 59.0ms\n",
      "Speed: 0.0ms preprocess, 59.0ms inference, 1.0ms postprocess per image at shape (1, 3, 640, 640)\n",
      "\n",
      "0: 384x640 (no detections), 63.0ms\n",
      "Speed: 1.0ms preprocess, 63.0ms inference, 1.0ms postprocess per image at shape (1, 3, 640, 640)\n"
     ]
    },
    {
     "name": "stdout",
     "output_type": "stream",
     "text": [
      "-0.5391069745766026\n",
      "0.9184520967297696\n",
      "0.11493722109284665 520 0.004052096729769583 127.2209242747223\n",
      "FPS:  7.141258636482819\n",
      "-0.5716500412961698\n",
      "0.9184520967297696\n",
      "0.11493722109284665 520 0.004052096729769583 127.2209242747223\n"
     ]
    },
    {
     "name": "stderr",
     "output_type": "stream",
     "text": [
      "\n",
      "0: 384x640 (no detections), 60.0ms\n",
      "Speed: 1.0ms preprocess, 60.0ms inference, 1.0ms postprocess per image at shape (1, 3, 640, 640)\n",
      "\n",
      "0: 384x640 (no detections), 69.0ms\n",
      "Speed: 0.0ms preprocess, 69.0ms inference, 1.0ms postprocess per image at shape (1, 3, 640, 640)\n"
     ]
    },
    {
     "name": "stdout",
     "output_type": "stream",
     "text": [
      "-0.6381634897167399\n",
      "0.9175428634530454\n",
      "0.022032966815382804 695 0.0031428634530453747 144.76253406324028\n",
      "FPS:  7.297563827306987\n",
      "-0.6762407589701398\n",
      "0.9175428634530454\n",
      "0.022032966815382804 695 0.0031428634530453747 144.76253406324028\n"
     ]
    },
    {
     "name": "stderr",
     "output_type": "stream",
     "text": [
      "\n",
      "0: 384x640 (no detections), 60.0ms\n",
      "Speed: 1.0ms preprocess, 60.0ms inference, 1.0ms postprocess per image at shape (1, 3, 640, 640)\n",
      "\n",
      "0: 384x640 (no detections), 59.0ms\n",
      "Speed: 1.0ms preprocess, 59.0ms inference, 1.0ms postprocess per image at shape (1, 3, 640, 640)\n"
     ]
    },
    {
     "name": "stdout",
     "output_type": "stream",
     "text": [
      "-0.6031091509371336\n",
      "0.9069047758205733\n",
      "FPS:  6.621072870723213\n",
      "-0.6068281514544045\n",
      "0.9075783086580957\n"
     ]
    },
    {
     "name": "stderr",
     "output_type": "stream",
     "text": [
      "\n",
      "0: 384x640 (no detections), 62.0ms\n",
      "Speed: 0.0ms preprocess, 62.0ms inference, 1.0ms postprocess per image at shape (1, 3, 640, 640)\n",
      "\n",
      "0: 384x640 (no detections), 63.0ms\n",
      "Speed: 0.0ms preprocess, 63.0ms inference, 1.0ms postprocess per image at shape (1, 3, 640, 640)\n"
     ]
    },
    {
     "name": "stdout",
     "output_type": "stream",
     "text": [
      "-0.6866105228692596\n",
      "0.8945501374602716\n",
      "FPS:  6.801228478120571\n",
      "-0.6978972769213387\n",
      "0.8949172471131563\n"
     ]
    },
    {
     "name": "stderr",
     "output_type": "stream",
     "text": [
      "\n",
      "0: 384x640 (no detections), 60.0ms\n",
      "Speed: 1.0ms preprocess, 60.0ms inference, 0.0ms postprocess per image at shape (1, 3, 640, 640)\n",
      "\n",
      "0: 384x640 (no detections), 63.0ms\n",
      "Speed: 0.0ms preprocess, 63.0ms inference, 1.0ms postprocess per image at shape (1, 3, 640, 640)\n"
     ]
    },
    {
     "name": "stdout",
     "output_type": "stream",
     "text": [
      "-0.7089329300729725\n",
      "0.8828648837778632\n",
      "FPS:  7.090602336314303\n",
      "-0.6560654498229088\n",
      "0.8828648837778632\n"
     ]
    },
    {
     "name": "stderr",
     "output_type": "stream",
     "text": [
      "\n",
      "0: 384x640 (no detections), 59.0ms\n",
      "Speed: 1.0ms preprocess, 59.0ms inference, 1.0ms postprocess per image at shape (1, 3, 640, 640)\n",
      "\n",
      "0: 384x640 (no detections), 68.0ms\n",
      "Speed: 1.0ms preprocess, 68.0ms inference, 1.0ms postprocess per image at shape (1, 3, 640, 640)\n"
     ]
    },
    {
     "name": "stdout",
     "output_type": "stream",
     "text": [
      "-0.59157506315544\n",
      "0.8708902669788527\n",
      "FPS:  7.192631602413833\n",
      "-0.5491193665004028\n",
      "0.8692010411536428\n"
     ]
    }
   ],
   "source": [
    "if __name__ == \"__main__\":\n",
    "    mode = 'predict'\n",
    "    model = YOLO('yolov8n.pt')\n",
    "    conf = 0.5\n",
    "    classes = 2,3,5,7\n",
    "    \n",
    "    cam = cv2.VideoCapture(0)\n",
    "    video_files = ['test_webcam2.mp4']\n",
    "    output_path = 'output_videos'\n",
    "    \n",
    "    with open(CALIBRATION_FILE_NAME_WEBCAM, 'rb') as f:\n",
    "        calib_data = pickle.load(f)\n",
    "        cam_matrix = calib_data[\"cam_matrix\"]\n",
    "        dist_coeffs = calib_data[\"dist_coeffs\"]\n",
    "        img_size = calib_data[\"img_size\"]\n",
    "\n",
    "    with open(PERSPECTIVE_FILE_NAME, 'rb') as f:\n",
    "        perspective_data = pickle.load(f)\n",
    "        perspective_transform = perspective_data[\"perspective_transform\"]\n",
    "        pixels_per_meter = perspective_data[\"pixels_per_meter\"]\n",
    "        orig_points = perspective_data[\"orig_points\"]\n",
    "\n",
    "    def process_image(img, car_detector, lane_finder, cam_matrix, dist_coeffs, transform_matrix, pixel_per_meter, reset=False):\n",
    "        img = cv2.undistort(img, cam_matrix, dist_coeffs)\n",
    "        car_detector.detect(img, reset=reset)\n",
    "        lane_finder.find_lane(img, distorted=False, reset=reset)\n",
    "        return lane_finder.draw_lane_weighted(car_detector.draw(img))\n",
    "        # return car_detector.draw(img)\n",
    "\n",
    "    for file in video_files:\n",
    "        lf = Lane_Finder(img_size=ORIGINAL_SIZE, warped_size=UNWARPED_SIZE, cam_matrix=cam_matrix, dist_coeffs=dist_coeffs, \n",
    "                         transform_matrix=perspective_transform, pixels_per_meter=pixels_per_meter, warning_icon='warning.png')\n",
    "        cd = CarDetector(warped_size=UNWARPED_SIZE, transform_matrix=perspective_transform, \n",
    "                         pixel_per_meter=pixels_per_meter, cam_matrix=cam_matrix, \n",
    "                         dist_coeffs=dist_coeffs)\n",
    "        video_capture = cv2.VideoCapture(file)\n",
    "        while True:\n",
    "            start_time = time.time() # start time of the loop\n",
    "            ret, image = video_capture.read()\n",
    "            image = cv2.resize(image, (ORIGINAL_SIZE[0], ORIGINAL_SIZE[1]))\n",
    "            if not ret:\n",
    "                break\n",
    "            # process_image(image, cd, cam_matrix, dist_coeffs, perspective_transform, pixels_per_meter)\n",
    "            \n",
    "            output = process_image(image, cd, lf, cam_matrix, dist_coeffs, perspective_transform, pixels_per_meter)\n",
    "            cv2.putText(image, \"FPS: {:.2f}\".format(1.0 / (time.time() - start_time)), (580, 40), cv2.FONT_HERSHEY_PLAIN, fontScale=1.25, thickness=3, color=(255, 255, 255))\n",
    "            cv2.putText(image, \"FPS: {:.2f}\".format(1.0 / (time.time() - start_time)), (580, 40), cv2.FONT_HERSHEY_PLAIN, fontScale=1.25, thickness=2, color=(0, 0, 0))\n",
    "            print(\"FPS: \", 1.0 / (time.time() - start_time)) # FPS = 1 / time to process loop\n",
    "            cv2.imshow('YOLO V8', process_image(image, cd, lf, cam_matrix, dist_coeffs, perspective_transform, pixels_per_meter))\n",
    "            key = cv2.waitKey(1)\n",
    "            if key & 0xFF == ord('q'):\n",
    "                break\n",
    "        video_capture.release()\n",
    "        cv2.destroyAllWindows()\n",
    "        # output = os.path.join(output_path, \"detect_cars_only\"+file)\n",
    "        # clip2 = VideoFileClip(file)\n",
    "        # challenge_clip = clip2.fl_image(lambda x: process_image(x, cd, cam_matrix, dist_coeffs, perspective_transform, pixels_per_meter))\n",
    "        # challenge_clip.write_videofile(output, audio=False)\n"
   ]
  },
  {
   "cell_type": "code",
   "execution_count": null,
   "id": "1b184d2c",
   "metadata": {},
   "outputs": [],
   "source": []
  }
 ],
 "metadata": {
  "kernelspec": {
   "display_name": "Python 3 (ipykernel)",
   "language": "python",
   "name": "python3"
  },
  "language_info": {
   "codemirror_mode": {
    "name": "ipython",
    "version": 3
   },
   "file_extension": ".py",
   "mimetype": "text/x-python",
   "name": "python",
   "nbconvert_exporter": "python",
   "pygments_lexer": "ipython3",
   "version": "3.10.9"
  }
 },
 "nbformat": 4,
 "nbformat_minor": 5
}
